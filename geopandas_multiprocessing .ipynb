{
 "cells": [
  {
   "cell_type": "code",
   "execution_count": 1,
   "metadata": {},
   "outputs": [],
   "source": [
    "import numpy as np\n",
    "import geopandas as gpd\n",
    "from shapely.geometry import Point\n",
    "import pandas as pd\n",
    "import numpy as np\n",
    "import geopandas\n",
    "import matplotlib.pyplot as plt\n",
    "from shapely.geometry import Point,Polygon\n",
    "import csv\n",
    "import random\n",
    "from geopandas.tools import sjoin\n",
    "import multiprocessing\n",
    "import time\n",
    "from pathos.multiprocessing import ProcessingPool as Pool\n",
    "from prettytable import PrettyTable"
   ]
  },
  {
   "cell_type": "code",
   "execution_count": 2,
   "metadata": {},
   "outputs": [
    {
     "name": "stdout",
     "output_type": "stream",
     "text": [
      "Python 3.7.3\n",
      "Darwin-18.6.0-x86_64-i386-64bit\n",
      "cpu cores: 4\n"
     ]
    }
   ],
   "source": [
    "!python --version\n",
    "import platform\n",
    "print(platform.platform())\n",
    "print(\"cpu cores: {0}\".format(multiprocessing.cpu_count()))"
   ]
  },
  {
   "cell_type": "code",
   "execution_count": 3,
   "metadata": {},
   "outputs": [],
   "source": [
    "lat = []\n",
    "lon = []\n",
    "data_points = 100000\n",
    "for i in range(data_points):\n",
    "    x = random.uniform(-90,90)\n",
    "    lat.append(x)\n",
    "    \n",
    "    \n",
    "for i in range(data_points):\n",
    "    x = random.uniform(-180,180)\n",
    "    lon.append(x)\n",
    "\n",
    "df_cord = pd.DataFrame(lon , columns = ['Lon'])\n",
    "df_cord['Lat'] = lat\n",
    "geometry = [Point(xy) for xy in zip(df_cord.Lon, df_cord.Lat)]\n",
    "df_cord = df_cord.drop(['Lon' , 'Lat' ], axis=1)\n",
    "crs = {'init': 'epsg:4326'}\n",
    "gdf = geopandas.GeoDataFrame(df_cord, crs=crs, geometry=geometry)"
   ]
  },
  {
   "cell_type": "code",
   "execution_count": 4,
   "metadata": {},
   "outputs": [
    {
     "name": "stdout",
     "output_type": "stream",
     "text": [
      "(100000, 1)\n"
     ]
    }
   ],
   "source": [
    "print(gdf.shape)"
   ]
  },
  {
   "cell_type": "code",
   "execution_count": 5,
   "metadata": {},
   "outputs": [],
   "source": [
    "world = geopandas.read_file(geopandas.datasets.get_path('naturalearth_lowres'))\n",
    "# ax = world.plot( color='white', edgecolor='black' ,figsize = (40,30))\n",
    "# gdf.plot(ax=ax, color='red')\n",
    "# plt.title(\"World map showing location of given coordinate\")\n",
    "# print(world.head(3))\n",
    "# plt.show()"
   ]
  },
  {
   "cell_type": "code",
   "execution_count": 6,
   "metadata": {},
   "outputs": [],
   "source": [
    "df_new = world[['continent' , 'name' , 'geometry']]"
   ]
  },
  {
   "cell_type": "code",
   "execution_count": 7,
   "metadata": {},
   "outputs": [],
   "source": [
    "def computation(data_split):\n",
    "    for index,row in data_split.iterrows():\n",
    "        filter = df_new['geometry'].contains(row['geometry'])\n",
    "        x = df_new.loc[filter]\n",
    "        value_c = x['name'].to_string(index = False)\n",
    "        data_split.loc[index, 'Country'] = value_c if value_c != 'Series([], )' else np.NaN\n",
    "    return data_split"
   ]
  },
  {
   "cell_type": "code",
   "execution_count": 8,
   "metadata": {},
   "outputs": [],
   "source": [
    "#computation(gdf)"
   ]
  },
  {
   "cell_type": "code",
   "execution_count": null,
   "metadata": {},
   "outputs": [],
   "source": []
  },
  {
   "cell_type": "code",
   "execution_count": 9,
   "metadata": {},
   "outputs": [
    {
     "name": "stdout",
     "output_type": "stream",
     "text": [
      "(3125, 1)\n",
      "(3125, 1)\n",
      "(3125, 1)\n",
      "(3125, 1)\n",
      "(3125, 1)\n",
      "(3125, 1)\n",
      "(3125, 1)\n",
      "(3125, 1)\n",
      "(3125, 1)\n",
      "(3125, 1)\n",
      "(3125, 1)\n",
      "(3125, 1)\n",
      "(3125, 1)\n",
      "(3125, 1)\n",
      "(3125, 1)\n",
      "(3125, 1)\n",
      "(3125, 1)\n",
      "(3125, 1)\n",
      "(3125, 1)\n",
      "(3125, 1)\n",
      "(3125, 1)\n",
      "(3125, 1)\n",
      "(3125, 1)\n",
      "(3125, 1)\n",
      "(3125, 1)\n",
      "(3125, 1)\n",
      "(3125, 1)\n",
      "(3125, 1)\n",
      "(3125, 1)\n",
      "(3125, 1)\n",
      "(3125, 1)\n",
      "(3125, 1)\n",
      "--- 183.68983602523804 seconds ---\n"
     ]
    }
   ],
   "source": [
    "start_time = time.time()  \n",
    "\n",
    "cores = 32\n",
    "partitions = 32\n",
    "\n",
    "\n",
    "data_split = np.array_split(gdf, cores, axis=0)\n",
    "pool = Pool(cores)\n",
    "for i in range(len(data_split)):\n",
    "    print(data_split[i].shape)\n",
    "df_out = np.vstack(pool.map(computation, data_split))\n",
    "pool.close()\n",
    "pool.join()\n",
    "pool.clear()\n",
    "print(\"--- %s seconds ---\" % (time.time() - start_time))"
   ]
  },
  {
   "cell_type": "code",
   "execution_count": 10,
   "metadata": {},
   "outputs": [
    {
     "name": "stdout",
     "output_type": "stream",
     "text": [
      "                                                    0                 1\n",
      "0         POINT (164.2954037092926 85.89183015170727)               NaN\n",
      "1          POINT (136.355165572281 72.89629359293937)               NaN\n",
      "2        POINT (-98.26515234379488 54.49722717074582)            Canada\n",
      "3        POINT (-139.225293784404 -33.34597115111665)               NaN\n",
      "4        POINT (54.96836321304835 -33.82780483374481)               NaN\n",
      "5       POINT (-97.08654113291566 -30.40771487099786)               NaN\n",
      "6         POINT (85.82116392749214 27.93633091746344)             Nepal\n",
      "7        POINT (-130.2923104363879 74.96457221016703)               NaN\n",
      "8      POINT (-0.5194762779173061 -61.34264935703615)               NaN\n",
      "9         POINT (29.21840626428059 12.48343851891812)             Sudan\n",
      "10     POINT (-0.8791770623273578 -69.84084543208823)               NaN\n",
      "11      POINT (-48.82479096033819 -51.83831674273843)               NaN\n",
      "12        POINT (118.5215908512287 88.48466654772125)               NaN\n",
      "13        POINT (154.1788466950763 17.38216894396459)               NaN\n",
      "14      POINT (-147.7508556725397 0.1459533520432643)               NaN\n",
      "15         POINT (164.531349074237 43.22365076106038)               NaN\n",
      "16       POINT (-172.8972167952001 76.01326698716653)               NaN\n",
      "17       POINT (21.87264406944163 -4.556140149025211)   Dem. Rep. Congo\n",
      "18      POINT (-32.68736996815838 -38.45333246090828)               NaN\n",
      "19        POINT (13.9571257003071 -54.16854028309445)               NaN\n",
      "20      POINT (-46.69892528755659 -33.48760589183504)               NaN\n",
      "21      POINT (-167.1952475144454 -30.51615701308781)               NaN\n",
      "22        POINT (93.71474242880026 60.01685979737346)            Russia\n",
      "23       POINT (-150.9611410413351 10.18562999801892)               NaN\n",
      "24      POINT (-118.3580445624145 -23.87808901009245)               NaN\n",
      "25      POINT (-37.71049026191056 -62.12769605002107)               NaN\n",
      "26       POINT (152.5750762770402 -82.60698648068123)        Antarctica\n",
      "27       POINT (-51.60548755158285 59.27657821084756)               NaN\n",
      "28         POINT (147.3131045823555 52.1871291012279)               NaN\n",
      "29      POINT (-89.66457159225837 -70.62276584699302)               NaN\n",
      "...                                               ...               ...\n",
      "99970     POINT (168.1598821351523 81.22745281839693)               NaN\n",
      "99971    POINT (150.0480523460552 -81.11959314760311)        Antarctica\n",
      "99972   POINT (-30.99984420789434 -80.85780864029236)        Antarctica\n",
      "99973    POINT (-168.980292400373 -87.87456822020869)        Antarctica\n",
      "99974     POINT (-147.3569811679607 81.6514761021142)               NaN\n",
      "99975   POINT (-126.9564395779487 -63.96786816452749)               NaN\n",
      "99976    POINT (94.56987318196133 -62.77634932608303)               NaN\n",
      "99977     POINT (-155.171504492571 21.69624312633032)               NaN\n",
      "99978    POINT (78.20332066010195 -85.51649147093433)        Antarctica\n",
      "99979     POINT (16.80827653811903 85.88042074312241)               NaN\n",
      "99980    POINT (-80.98759669828877 26.05744694533736)     United States\n",
      "99981    POINT (-91.17499744203027 76.23934231360187)            Canada\n",
      "99982    POINT (-119.1844163451067 75.56850270618676)               NaN\n",
      "99983   POINT (-78.04170767005995 -1.007424597242405)           Ecuador\n",
      "99984     POINT (92.13740668234061 84.21433139633547)               NaN\n",
      "99985   POINT (-127.6308532403549 -56.43687792852118)               NaN\n",
      "99986   POINT (-36.80614075815205 -67.98867394046326)               NaN\n",
      "99987     POINT (171.8268161428065 24.31547687425908)               NaN\n",
      "99988   POINT (-170.4086141740947 -77.78112229344636)               NaN\n",
      "99989     POINT (8.000443729519588 16.72939223528783)             Niger\n",
      "99990     POINT (-15.814635856563 -11.17402218894172)               NaN\n",
      "99991     POINT (102.770758486648 -86.63067708492707)        Antarctica\n",
      "99992    POINT (163.8819916307306 -53.02393614298401)               NaN\n",
      "99993    POINT (80.31980942566111 -68.35180672962852)        Antarctica\n",
      "99994    POINT (125.5365939657889 -68.82617400614792)        Antarctica\n",
      "99995    POINT (-85.60212795055108 17.23237119488343)               NaN\n",
      "99996    POINT (40.69356226187321 -14.69362971168681)        Mozambique\n",
      "99997    POINT (-128.6152291342471 12.12460906645376)               NaN\n",
      "99998     POINT (120.8766583259193 82.43217174684384)               NaN\n",
      "99999     POINT (86.42674123889327 27.14534732991446)             Nepal\n",
      "\n",
      "[100000 rows x 2 columns]\n"
     ]
    }
   ],
   "source": [
    "op  = pd.DataFrame(data = df_out)\n",
    "print(op)"
   ]
  },
  {
   "cell_type": "code",
   "execution_count": 13,
   "metadata": {},
   "outputs": [],
   "source": [
    "x = PrettyTable()\n",
    "\n",
    "x.field_names = [\"S.No.\" ,\" Number of Partitions\", \"Data Points per partition\", \"Time taken to run(minutes)\"]\n",
    "x.add_row([0, 0, 1000000, 155])\n",
    "x.add_row([1, 4, 250000, 55])\n",
    "x.add_row([2, 8, 125000, 40])\n",
    "x.add_row([3, 12, 83333, 36])                 \n",
    "x.add_row([4, 16, 6250, 35.5])\n",
    "x.add_row([5, 32, 3125, 30.5])"
   ]
  },
  {
   "cell_type": "code",
   "execution_count": 14,
   "metadata": {},
   "outputs": [
    {
     "name": "stdout",
     "output_type": "stream",
     "text": [
      "For 1 million data points\n",
      "+-------+-----------------------+---------------------------+----------------------------+\n",
      "| S.No. |  Number of Partitions | Data Points per partition | Time taken to run(minutes) |\n",
      "+-------+-----------------------+---------------------------+----------------------------+\n",
      "|   0   |           0           |          1000000          |            155             |\n",
      "|   1   |           4           |           250000          |             55             |\n",
      "|   2   |           8           |           125000          |             40             |\n",
      "|   3   |           12          |           83333           |             36             |\n",
      "|   4   |           16          |            6250           |            35.5            |\n",
      "|   5   |           32          |            3125           |            30.5            |\n",
      "+-------+-----------------------+---------------------------+----------------------------+\n"
     ]
    }
   ],
   "source": [
    "print(\"For 1 million data points\")\n",
    "print(x)"
   ]
  },
  {
   "cell_type": "code",
   "execution_count": null,
   "metadata": {},
   "outputs": [],
   "source": []
  },
  {
   "cell_type": "code",
   "execution_count": null,
   "metadata": {},
   "outputs": [],
   "source": []
  }
 ],
 "metadata": {
  "kernelspec": {
   "display_name": "Python 3",
   "language": "python",
   "name": "python3"
  },
  "language_info": {
   "codemirror_mode": {
    "name": "ipython",
    "version": 3
   },
   "file_extension": ".py",
   "mimetype": "text/x-python",
   "name": "python",
   "nbconvert_exporter": "python",
   "pygments_lexer": "ipython3",
   "version": "3.7.3"
  }
 },
 "nbformat": 4,
 "nbformat_minor": 2
}
