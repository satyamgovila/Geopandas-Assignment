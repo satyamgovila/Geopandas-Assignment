{
 "cells": [
  {
   "cell_type": "code",
   "execution_count": 2,
   "metadata": {},
   "outputs": [],
   "source": [
    "import numpy as np\n",
    "import geopandas as gpd\n",
    "from shapely.geometry import Point\n",
    "import pandas as pd\n",
    "import numpy as np\n",
    "import geopandas\n",
    "import matplotlib.pyplot as plt\n",
    "from shapely.geometry import Point,Polygon\n",
    "import csv\n",
    "import random\n",
    "from geopandas.tools import sjoin\n",
    "import multiprocessing\n",
    "import time\n",
    "from pathos.multiprocessing import ProcessingPool as Pool\n",
    "from prettytable import PrettyTable"
   ]
  },
  {
   "cell_type": "code",
   "execution_count": 2,
   "metadata": {},
   "outputs": [
    {
     "name": "stdout",
     "output_type": "stream",
     "text": [
      "Python 3.7.3\n",
      "Darwin-18.6.0-x86_64-i386-64bit\n",
      "cpu cores: 4\n"
     ]
    }
   ],
   "source": [
    "!python --version\n",
    "import platform\n",
    "print(platform.platform())\n",
    "print(\"cpu cores: {0}\".format(multiprocessing.cpu_count()))"
   ]
  },
  {
   "cell_type": "code",
   "execution_count": 3,
   "metadata": {},
   "outputs": [],
   "source": [
    "lat = []\n",
    "lon = []\n",
    "data_points = 100000\n",
    "for i in range(data_points):\n",
    "    x = random.uniform(-90,90)\n",
    "    lat.append(x)\n",
    "    \n",
    "    \n",
    "for i in range(data_points):\n",
    "    x = random.uniform(-180,180)\n",
    "    lon.append(x)\n",
    "\n",
    "df_cord = pd.DataFrame(lon , columns = ['Lon'])\n",
    "df_cord['Lat'] = lat\n",
    "geometry = [Point(xy) for xy in zip(df_cord.Lon, df_cord.Lat)]\n",
    "df_cord = df_cord.drop(['Lon' , 'Lat' ], axis=1)\n",
    "crs = {'init': 'epsg:4326'}\n",
    "gdf = geopandas.GeoDataFrame(df_cord, crs=crs, geometry=geometry)"
   ]
  },
  {
   "cell_type": "code",
   "execution_count": 4,
   "metadata": {},
   "outputs": [
    {
     "name": "stdout",
     "output_type": "stream",
     "text": [
      "(100000, 1)\n"
     ]
    }
   ],
   "source": [
    "print(gdf.shape)"
   ]
  },
  {
   "cell_type": "code",
   "execution_count": 5,
   "metadata": {},
   "outputs": [],
   "source": [
    "world = geopandas.read_file(geopandas.datasets.get_path('naturalearth_lowres'))\n",
    "# ax = world.plot( color='white', edgecolor='black' ,figsize = (40,30))\n",
    "# gdf.plot(ax=ax, color='red')\n",
    "# plt.title(\"World map showing location of given coordinate\")\n",
    "# print(world.head(3))\n",
    "# plt.show()"
   ]
  },
  {
   "cell_type": "code",
   "execution_count": 6,
   "metadata": {},
   "outputs": [],
   "source": [
    "df_new = world[['continent' , 'name' , 'geometry']]"
   ]
  },
  {
   "cell_type": "code",
   "execution_count": 7,
   "metadata": {},
   "outputs": [],
   "source": [
    "def computation(data_split):\n",
    "    for index,row in data_split.iterrows():\n",
    "        filter = df_new['geometry'].contains(row['geometry'])\n",
    "        x = df_new.loc[filter]\n",
    "        value_c = x['name'].to_string(index = False)\n",
    "        data_split.loc[index, 'Country'] = value_c if value_c != 'Series([], )' else np.NaN\n",
    "    return data_split"
   ]
  },
  {
   "cell_type": "code",
   "execution_count": 8,
   "metadata": {},
   "outputs": [],
   "source": [
    "#computation(gdf)"
   ]
  },
  {
   "cell_type": "code",
   "execution_count": null,
   "metadata": {},
   "outputs": [],
   "source": []
  },
  {
   "cell_type": "code",
   "execution_count": 9,
   "metadata": {},
   "outputs": [
    {
     "name": "stdout",
     "output_type": "stream",
     "text": [
      "(6250, 1)\n",
      "(6250, 1)\n",
      "(6250, 1)\n",
      "(6250, 1)\n",
      "(6250, 1)\n",
      "(6250, 1)\n",
      "(6250, 1)\n",
      "(6250, 1)\n",
      "(6250, 1)\n",
      "(6250, 1)\n",
      "(6250, 1)\n",
      "(6250, 1)\n",
      "(6250, 1)\n",
      "(6250, 1)\n",
      "(6250, 1)\n",
      "(6250, 1)\n",
      "--- 213.08127999305725 seconds ---\n"
     ]
    }
   ],
   "source": [
    "start_time = time.time()  \n",
    "\n",
    "cores = 16\n",
    "partitions = 16\n",
    "\n",
    "\n",
    "data_split = np.array_split(gdf, cores, axis=0)\n",
    "pool = Pool(cores)\n",
    "for i in range(len(data_split)):\n",
    "    print(data_split[i].shape)\n",
    "df_out = np.vstack(pool.map(computation, data_split))\n",
    "pool.close()\n",
    "pool.join()\n",
    "pool.clear()\n",
    "print(\"--- %s seconds ---\" % (time.time() - start_time))"
   ]
  },
  {
   "cell_type": "code",
   "execution_count": 10,
   "metadata": {},
   "outputs": [
    {
     "name": "stdout",
     "output_type": "stream",
     "text": [
      "                                                   0                 1\n",
      "0       POINT (-99.90811557000129 57.01409711852594)            Canada\n",
      "1       POINT (-160.2887368042639 77.66883577638831)               NaN\n",
      "2        POINT (175.9016256556254 40.52129850108327)               NaN\n",
      "3      POINT (-111.4273966019301 -89.62595891533937)        Antarctica\n",
      "4       POINT (34.71782639384764 -65.62833163578861)               NaN\n",
      "5        POINT (111.9882467757029 -25.5673409700282)               NaN\n",
      "6       POINT (24.45843345527911 -2.480037226276963)   Dem. Rep. Congo\n",
      "7       POINT (-174.9185150908384 11.43981517633384)               NaN\n",
      "8       POINT (-134.0419217231101 28.01856448458116)               NaN\n",
      "9        POINT (117.3965502397749 36.02321487574385)             China\n",
      "10       POINT (23.5020595733254 -26.52499719262659)      South Africa\n",
      "11       POINT (112.1719725145896 70.37431381937975)            Russia\n",
      "12     POINT (-53.61506528945073 -27.63367912752224)            Brazil\n",
      "13      POINT (129.7187915360278 -28.74357485166252)         Australia\n",
      "14      POINT (115.4204034643027 -52.80557541574155)               NaN\n",
      "15      POINT (59.94488776832495 -24.61835791416971)               NaN\n",
      "16      POINT (-9.388523936287754 18.82435925327897)        Mauritania\n",
      "17      POINT (-41.55336158472753 77.86138110292558)         Greenland\n",
      "18     POINT (-177.6650910265471 -64.34930232784475)               NaN\n",
      "19       POINT (125.9813028266142 18.91793771253482)               NaN\n",
      "20     POINT (-163.4692526047385 -49.71038919390733)               NaN\n",
      "21      POINT (-46.75335518970402 61.61109883990682)         Greenland\n",
      "22       POINT (-161.6705704735694 28.3557645339197)               NaN\n",
      "23       POINT (-130.5981872891053 22.1742328940438)               NaN\n",
      "24       POINT (84.02671120725154 51.47468942444843)            Russia\n",
      "25      POINT (-98.1521979371398 -65.59133644585134)               NaN\n",
      "26      POINT (71.04438280682902 -79.53921152207509)        Antarctica\n",
      "27       POINT (163.7879261597399 22.79038581810458)               NaN\n",
      "28       POINT (39.6354238029293 -6.510596886538323)               NaN\n",
      "29      POINT (-90.64389529409236 50.09680161512935)            Canada\n",
      "...                                              ...               ...\n",
      "99970   POINT (30.33877930765553 -83.71206418042746)        Antarctica\n",
      "99971    POINT (33.99458155173775 84.74714476829368)               NaN\n",
      "99972  POINT (-163.8192285391344 -48.49079159655275)               NaN\n",
      "99973   POINT (-43.4931263402344 -39.44522780602956)               NaN\n",
      "99974    POINT (-134.1777011706227 67.2794767167442)            Canada\n",
      "99975   POINT (-70.52050019679031 72.35479826217812)               NaN\n",
      "99976  POINT (-140.1586162499145 -72.78032360486934)               NaN\n",
      "99977     POINT (118.3519453476547 17.4122525454143)               NaN\n",
      "99978   POINT (14.80029066344883 -57.64823014705182)               NaN\n",
      "99979    POINT (144.2197501998315 12.74783652816362)               NaN\n",
      "99980   POINT (-41.26381962938899 72.22463025820039)         Greenland\n",
      "99981    POINT (110.1166886808236 47.18294681588497)          Mongolia\n",
      "99982     POINT (59.0113265198475 33.25834285455178)              Iran\n",
      "99983   POINT (29.63770748251017 -72.97518208439882)        Antarctica\n",
      "99984   POINT (0.761539209011346 -15.12895220200937)               NaN\n",
      "99985  POINT (-123.5003248811945 -8.422921925620528)               NaN\n",
      "99986   POINT (-57.19744486806556 62.55488998211939)               NaN\n",
      "99987    POINT (93.3740462553564 -33.77262678896445)               NaN\n",
      "99988    POINT (175.1608710984342 88.81776293358578)               NaN\n",
      "99989  POINT (-134.6828645797044 -59.32163290700004)               NaN\n",
      "99990    POINT (116.0366920702693 56.24877487721349)            Russia\n",
      "99991    POINT (147.5534935538784 86.39002814361891)               NaN\n",
      "99992     POINT (80.99240183721321 12.1454606700654)               NaN\n",
      "99993  POINT (-151.8846147724591 -84.33861091369494)               NaN\n",
      "99994   POINT (-4.422292387183887 -1.08817170884511)               NaN\n",
      "99995     POINT (83.22097047046265 21.2565528415053)             India\n",
      "99996   POINT (119.3616484031774 -46.73234134924331)               NaN\n",
      "99997   POINT (-155.924589266202 -50.11204572719429)               NaN\n",
      "99998    POINT (115.8397117823345 16.93642217722102)               NaN\n",
      "99999   POINT (-153.6964615558387 -40.7428002871407)               NaN\n",
      "\n",
      "[100000 rows x 2 columns]\n"
     ]
    }
   ],
   "source": [
    "op  = pd.DataFrame(data = df_out)\n",
    "print(op)"
   ]
  },
  {
   "cell_type": "code",
   "execution_count": 7,
   "metadata": {},
   "outputs": [],
   "source": [
    "x = PrettyTable()\n",
    "\n",
    "x.field_names = [\"S.No.\" ,\" Number of Partitions\", \"Data Points per partition\", \"Time taken to run(minutes)\"]\n",
    "x.add_row([0, 0, 1000000, 155])\n",
    "x.add_row([1, 4, 250000, 55])\n",
    "x.add_row([2, 8, 125000, 40])\n",
    "x.add_row([3, 12, 83333, 36])                 \n",
    "x.add_row([4, 16, 6250, 35.5])"
   ]
  },
  {
   "cell_type": "code",
   "execution_count": 9,
   "metadata": {},
   "outputs": [
    {
     "name": "stdout",
     "output_type": "stream",
     "text": [
      "For 1 million data points\n",
      "+-------+-----------------------+---------------------------+----------------------------+\n",
      "| S.No. |  Number of Partitions | Data Points per partition | Time taken to run(minutes) |\n",
      "+-------+-----------------------+---------------------------+----------------------------+\n",
      "|   0   |           0           |          1000000          |            155             |\n",
      "|   1   |           4           |           250000          |             55             |\n",
      "|   2   |           8           |           125000          |             40             |\n",
      "|   3   |           12          |           83333           |             36             |\n",
      "|   4   |           16          |            6250           |            35.5            |\n",
      "+-------+-----------------------+---------------------------+----------------------------+\n"
     ]
    }
   ],
   "source": [
    "print(\"For 1 million data points\")\n",
    "print(x)"
   ]
  },
  {
   "cell_type": "code",
   "execution_count": null,
   "metadata": {},
   "outputs": [],
   "source": []
  },
  {
   "cell_type": "code",
   "execution_count": null,
   "metadata": {},
   "outputs": [],
   "source": []
  }
 ],
 "metadata": {
  "kernelspec": {
   "display_name": "Python 3",
   "language": "python",
   "name": "python3"
  },
  "language_info": {
   "codemirror_mode": {
    "name": "ipython",
    "version": 3
   },
   "file_extension": ".py",
   "mimetype": "text/x-python",
   "name": "python",
   "nbconvert_exporter": "python",
   "pygments_lexer": "ipython3",
   "version": "3.7.3"
  }
 },
 "nbformat": 4,
 "nbformat_minor": 2
}
