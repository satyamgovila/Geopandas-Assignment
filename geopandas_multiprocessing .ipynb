{
 "cells": [
  {
   "cell_type": "code",
   "execution_count": 1,
   "metadata": {},
   "outputs": [],
   "source": [
    "import numpy as np\n",
    "import geopandas as gpd\n",
    "from shapely.geometry import Point\n",
    "import pandas as pd\n",
    "import numpy as np\n",
    "import geopandas\n",
    "import matplotlib.pyplot as plt\n",
    "from shapely.geometry import Point,Polygon\n",
    "import csv\n",
    "import random\n",
    "from geopandas.tools import sjoin\n",
    "import multiprocessing as mp\n",
    "import time"
   ]
  },
  {
   "cell_type": "code",
   "execution_count": 2,
   "metadata": {},
   "outputs": [],
   "source": [
    "lat = []\n",
    "lon = []\n",
    "data_points = 100000\n",
    "for i in range(data_points):\n",
    "    x = random.uniform(-90,90)\n",
    "    lat.append(x)\n",
    "    \n",
    "    \n",
    "for i in range(data_points):\n",
    "    x = random.uniform(-180,180)\n",
    "    lon.append(x)\n",
    "\n",
    "df_cord = pd.DataFrame(lon , columns = ['Lon'])\n",
    "df_cord['Lat'] = lat\n",
    "geometry = [Point(xy) for xy in zip(df_cord.Lon, df_cord.Lat)]\n",
    "df_cord = df_cord.drop(['Lon' , 'Lat' ], axis=1)\n",
    "crs = {'init': 'epsg:4326'}\n",
    "gdf = geopandas.GeoDataFrame(df_cord, crs=crs, geometry=geometry)"
   ]
  },
  {
   "cell_type": "code",
   "execution_count": 3,
   "metadata": {},
   "outputs": [
    {
     "name": "stdout",
     "output_type": "stream",
     "text": [
      "(100000, 1)\n"
     ]
    }
   ],
   "source": [
    "print(gdf.shape)"
   ]
  },
  {
   "cell_type": "code",
   "execution_count": 4,
   "metadata": {},
   "outputs": [],
   "source": [
    "world = geopandas.read_file(geopandas.datasets.get_path('naturalearth_lowres'))\n",
    "# ax = world.plot( color='white', edgecolor='black' ,figsize = (40,30))\n",
    "# gdf.plot(ax=ax, color='red')\n",
    "# plt.title(\"World map showing location of given coordinate\")\n",
    "# print(world.head(3))\n",
    "# plt.show()"
   ]
  },
  {
   "cell_type": "code",
   "execution_count": 5,
   "metadata": {},
   "outputs": [],
   "source": [
    "df_new = world[['continent' , 'name' , 'geometry']]"
   ]
  },
  {
   "cell_type": "code",
   "execution_count": 6,
   "metadata": {},
   "outputs": [],
   "source": [
    "def computation(data_split):\n",
    "    for index,row in data_split.iterrows():\n",
    "        filter = df_new['geometry'].contains(row['geometry'])\n",
    "        x = df_new.loc[filter]\n",
    "        value_c = x['name'].to_string(index = False)\n",
    "        data_split.loc[index, 'Country'] = value_c if value_c != 'Series([], )' else np.NaN\n",
    "    return data_split"
   ]
  },
  {
   "cell_type": "code",
   "execution_count": 7,
   "metadata": {},
   "outputs": [],
   "source": [
    "#computation(gdf)"
   ]
  },
  {
   "cell_type": "code",
   "execution_count": 8,
   "metadata": {},
   "outputs": [],
   "source": [
    "from pathos.multiprocessing import ProcessingPool as Pool"
   ]
  },
  {
   "cell_type": "code",
   "execution_count": 9,
   "metadata": {},
   "outputs": [
    {
     "name": "stdout",
     "output_type": "stream",
     "text": [
      "(6667, 1)\n",
      "(6667, 1)\n",
      "(6667, 1)\n",
      "(6667, 1)\n",
      "(6667, 1)\n",
      "(6667, 1)\n",
      "(6667, 1)\n",
      "(6667, 1)\n",
      "(6667, 1)\n",
      "(6667, 1)\n",
      "(6666, 1)\n",
      "(6666, 1)\n",
      "(6666, 1)\n",
      "(6666, 1)\n",
      "(6666, 1)\n",
      "--- 212.1420600414276 seconds ---\n"
     ]
    }
   ],
   "source": [
    "start_time = time.time()  \n",
    "\n",
    "cores = 15\n",
    "partitions = 15\n",
    "\n",
    "\n",
    "data_split = np.array_split(gdf, cores, axis=0)\n",
    "pool = Pool(cores)\n",
    "for i in range(len(data_split)):\n",
    "    print(data_split[i].shape)\n",
    "df_out = np.vstack(pool.map(computation, data_split))\n",
    "pool.close()\n",
    "pool.join()\n",
    "pool.clear()\n",
    "print(\"--- %s seconds ---\" % (time.time() - start_time))"
   ]
  },
  {
   "cell_type": "code",
   "execution_count": 10,
   "metadata": {},
   "outputs": [
    {
     "name": "stdout",
     "output_type": "stream",
     "text": [
      "                                                   0            1\n",
      "0       POINT (-63.47758808065264 34.06728956726852)          NaN\n",
      "1      POINT (-53.00429894148033 -20.76267013040132)       Brazil\n",
      "2        POINT (35.54866507203954 56.79228919208646)       Russia\n",
      "3       POINT (-73.34602908537508 53.63442609178307)       Canada\n",
      "4       POINT (133.0552173636676 -39.54844742628094)          NaN\n",
      "5       POINT (99.04144404751935 -5.984940654737855)          NaN\n",
      "6       POINT (-94.38075245515431 -87.7917229232479)   Antarctica\n",
      "7      POINT (-2.813331133956666 -76.69103684786637)   Antarctica\n",
      "8       POINT (-32.90066372263988 66.53902313002808)          NaN\n",
      "9      POINT (-72.84152509283891 -43.75042611245143)        Chile\n",
      "10     POINT (-127.6635261808017 -11.27898824146122)          NaN\n",
      "11      POINT (95.66053474529929 -77.12052949301444)   Antarctica\n",
      "12      POINT (-9.674171851346216 35.37751346177606)          NaN\n",
      "13       POINT (137.1739763283173 43.87521241907908)          NaN\n",
      "14      POINT (123.8092105158034 -31.89287281259981)    Australia\n",
      "15     POINT (-44.85995625629386 -61.35799749957656)          NaN\n",
      "16     POINT (-71.86513467377955 -26.58174916347989)          NaN\n",
      "17      POINT (56.87965461368211 -85.48825729229267)   Antarctica\n",
      "18     POINT (-151.5854693968978 -48.76154804743701)          NaN\n",
      "19      POINT (-60.94357981865318 47.10873673773531)          NaN\n",
      "20          POINT (148.5208239786503 1.345118727065)          NaN\n",
      "21       POINT (90.28027968585343 4.281670362194163)          NaN\n",
      "22      POINT (-47.23971002509069 13.96243847767226)          NaN\n",
      "23       POINT (42.6738713426227 -16.90210967758067)          NaN\n",
      "24      POINT (-81.25344707668285 64.01464235908423)          NaN\n",
      "25     POINT (-106.2983951282046 -54.20941456612749)          NaN\n",
      "26     POINT (-145.9325318290582 -88.78518496540156)   Antarctica\n",
      "27      POINT (-161.9527219933953 -33.3788647385749)          NaN\n",
      "28      POINT (-104.0807013863743 83.59363567815231)          NaN\n",
      "29      POINT (-106.5744928835886 76.08372067440382)          NaN\n",
      "...                                              ...          ...\n",
      "99970  POINT (-136.1980689823995 -24.51953892071386)          NaN\n",
      "99971    POINT (-69.0880724488881 32.85138739734843)          NaN\n",
      "99972    POINT (99.85717511895183 53.09774338720712)       Russia\n",
      "99973    POINT (-26.13903805324742 67.8010074404161)          NaN\n",
      "99974    POINT (53.47519041593651 30.89513558828776)         Iran\n",
      "99975  POINT (-101.1143810125347 -22.68942075853019)          NaN\n",
      "99976  POINT (-29.05216845188903 -85.62499713465991)   Antarctica\n",
      "99977    POINT (1.106709384065653 1.470259197833954)          NaN\n",
      "99978   POINT (-5.359393616003047 87.63738713262046)          NaN\n",
      "99979   POINT (-42.16254264978897 24.63845303959168)          NaN\n",
      "99980    POINT (-75.0838571429164 17.22526445903173)          NaN\n",
      "99981   POINT (-98.22452760169936 -56.7013148711069)          NaN\n",
      "99982    POINT (0.2959674074560894 -58.259501884823)          NaN\n",
      "99983   POINT (-55.72711601091696 87.34302965265212)          NaN\n",
      "99984  POINT (-151.0229722165409 -74.34896418573665)          NaN\n",
      "99985  POINT (-63.47036223840885 -76.34134641958305)          NaN\n",
      "99986    POINT (68.70256234002355 15.84282105251127)          NaN\n",
      "99987  POINT (-82.73146092175858 -23.00033780755749)          NaN\n",
      "99988   POINT (134.9367298255204 -24.88564752967785)    Australia\n",
      "99989   POINT (-109.6689289919471 -29.7449438299849)          NaN\n",
      "99990   POINT (94.41718344914852 -11.28022628504542)          NaN\n",
      "99991  POINT (-7.764639216998347 -55.55732039922095)          NaN\n",
      "99992      POINT (56.8328005677599 81.5884597642542)          NaN\n",
      "99993   POINT (123.9420935528178 -48.42332614332717)          NaN\n",
      "99994   POINT (4.447333451505472 -47.08462846316304)          NaN\n",
      "99995    POINT (85.88451441952537 10.97193123017169)          NaN\n",
      "99996   POINT (-103.3673505386128 83.79589804052912)          NaN\n",
      "99997    POINT (27.29758055000761 18.00221407762511)        Sudan\n",
      "99998   POINT (-56.81433610325004 61.06506663073912)          NaN\n",
      "99999   POINT (-92.36122760001024 71.19514231865617)          NaN\n",
      "\n",
      "[100000 rows x 2 columns]\n"
     ]
    }
   ],
   "source": [
    "op  = pd.DataFrame(data = df_out)\n",
    "print(op)"
   ]
  }
 ],
 "metadata": {
  "kernelspec": {
   "display_name": "Python 3",
   "language": "python",
   "name": "python3"
  },
  "language_info": {
   "codemirror_mode": {
    "name": "ipython",
    "version": 3
   },
   "file_extension": ".py",
   "mimetype": "text/x-python",
   "name": "python",
   "nbconvert_exporter": "python",
   "pygments_lexer": "ipython3",
   "version": "3.7.3"
  }
 },
 "nbformat": 4,
 "nbformat_minor": 2
}
