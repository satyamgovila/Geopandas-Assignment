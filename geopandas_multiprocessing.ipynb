{
 "cells": [
  {
   "cell_type": "code",
   "execution_count": 1,
   "metadata": {},
   "outputs": [],
   "source": [
    "import numpy as np\n",
    "import geopandas as gpd\n",
    "from shapely.geometry import Point\n",
    "import pandas as pd\n",
    "import numpy as np\n",
    "import geopandas\n",
    "import matplotlib.pyplot as plt\n",
    "from shapely.geometry import Point,Polygon\n",
    "import csv\n",
    "import random\n",
    "from geopandas.tools import sjoin\n",
    "import multiprocessing as mp\n",
    "import time"
   ]
  },
  {
   "cell_type": "code",
   "execution_count": 2,
   "metadata": {},
   "outputs": [],
   "source": [
    "lat = []\n",
    "lon = []\n",
    "data_points = 100000\n",
    "for i in range(data_points):\n",
    "    x = random.uniform(-90,90)\n",
    "    lat.append(x)\n",
    "    \n",
    "    \n",
    "for i in range(data_points):\n",
    "    x = random.uniform(-180,180)\n",
    "    lon.append(x)\n",
    "\n",
    "df_cord = pd.DataFrame(lon , columns = ['Lon'])\n",
    "df_cord['Lat'] = lat\n",
    "geometry = [Point(xy) for xy in zip(df_cord.Lon, df_cord.Lat)]\n",
    "df_cord = df_cord.drop(['Lon' , 'Lat' ], axis=1)\n",
    "crs = {'init': 'epsg:4326'}\n",
    "gdf = geopandas.GeoDataFrame(df_cord, crs=crs, geometry=geometry)"
   ]
  },
  {
   "cell_type": "code",
   "execution_count": 3,
   "metadata": {},
   "outputs": [
    {
     "name": "stdout",
     "output_type": "stream",
     "text": [
      "(100000, 1)\n"
     ]
    }
   ],
   "source": [
    "print(gdf.shape)"
   ]
  },
  {
   "cell_type": "code",
   "execution_count": 4,
   "metadata": {},
   "outputs": [],
   "source": [
    "world = geopandas.read_file(geopandas.datasets.get_path('naturalearth_lowres'))\n",
    "# ax = world.plot( color='white', edgecolor='black' ,figsize = (40,30))\n",
    "# gdf.plot(ax=ax, color='red')\n",
    "# plt.title(\"World map showing location of given coordinate\")\n",
    "# print(world.head(3))\n",
    "# plt.show()"
   ]
  },
  {
   "cell_type": "code",
   "execution_count": 5,
   "metadata": {},
   "outputs": [],
   "source": [
    "df_new = world[['continent' , 'name' , 'geometry']]"
   ]
  },
  {
   "cell_type": "code",
   "execution_count": 6,
   "metadata": {},
   "outputs": [],
   "source": [
    "def computation(data_split):\n",
    "    for index,row in data_split.iterrows():\n",
    "        filter = df_new['geometry'].contains(row['geometry'])\n",
    "        x = df_new.loc[filter]\n",
    "        value_c = x['name'].to_string(index = False)\n",
    "        data_split.loc[index, 'Country'] = value_c if value_c != 'Series([], )' else np.NaN\n",
    "    return data_split"
   ]
  },
  {
   "cell_type": "code",
   "execution_count": 7,
   "metadata": {},
   "outputs": [],
   "source": [
    "#computation(gdf)"
   ]
  },
  {
   "cell_type": "code",
   "execution_count": 8,
   "metadata": {},
   "outputs": [],
   "source": [
    "from pathos.multiprocessing import ProcessingPool as Pool"
   ]
  },
  {
   "cell_type": "code",
   "execution_count": 9,
   "metadata": {},
   "outputs": [
    {
     "name": "stdout",
     "output_type": "stream",
     "text": [
      "(25000, 1)\n",
      "(25000, 1)\n",
      "(25000, 1)\n",
      "(25000, 1)\n",
      "--- 331.8383090496063 seconds ---\n"
     ]
    }
   ],
   "source": [
    "start_time = time.time()  \n",
    "\n",
    "cores = 4 \n",
    "partitions = cores\n",
    "\n",
    "\n",
    "data_split = np.array_split(gdf, cores, axis=0)\n",
    "pool = Pool(cores)\n",
    "for i in range(len(data_split)):\n",
    "    print(data_split[i].shape)\n",
    "df_out = np.vstack(pool.map(computation, data_split))\n",
    "pool.close()\n",
    "pool.join()\n",
    "pool.clear()\n",
    "print(\"--- %s seconds ---\" % (time.time() - start_time))"
   ]
  },
  {
   "cell_type": "code",
   "execution_count": 10,
   "metadata": {},
   "outputs": [
    {
     "name": "stdout",
     "output_type": "stream",
     "text": [
      "                                                   0            1\n",
      "0        POINT (123.2394736707416 -42.4249523865658)          NaN\n",
      "1        POINT (170.9003061685207 74.06285613393979)          NaN\n",
      "2      POINT (-40.74575591209535 -56.45632054314937)          NaN\n",
      "3       POINT (-46.24473354841024 -17.9799401527677)       Brazil\n",
      "4        POINT (163.2990348317372 18.71986630566725)          NaN\n",
      "5        POINT (78.63527198947213 30.12335666727729)        India\n",
      "6      POINT (-99.29762026096179 -76.25084126967425)   Antarctica\n",
      "7        POINT (153.1774954311774 3.477128289890871)          NaN\n",
      "8        POINT (175.672469272631 -78.72763594848804)          NaN\n",
      "9       POINT (-60.68457843644514 79.69256960779688)    Greenland\n",
      "10      POINT (-68.82102896321226 75.43085538451194)          NaN\n",
      "11     POINT (-124.2109959246441 -6.552144275865047)          NaN\n",
      "12       POINT (173.3922342988188 17.73899298314974)          NaN\n",
      "13     POINT (-97.92973789686152 -19.57494428041562)          NaN\n",
      "14     POINT (-38.26102544420988 -72.40692261785786)          NaN\n",
      "15       POINT (105.4861762046592 21.32808417997929)      Vietnam\n",
      "16        POINT (94.9511770421679 42.65039135346731)        China\n",
      "17      POINT (-9.480980570144908 69.30765403740165)          NaN\n",
      "18       POINT (89.15270396434215 80.52203090270109)          NaN\n",
      "19       POINT (31.16244260682151 5.888393463442654)     S. Sudan\n",
      "20      POINT (-105.999833374384 -22.70781577696438)          NaN\n",
      "21      POINT (-44.53996426038924 41.10754055689759)          NaN\n",
      "22     POINT (-104.1079988566125 -43.85405542931763)          NaN\n",
      "23     POINT (-84.38865150684144 -26.22343479782517)          NaN\n",
      "24     POINT (-76.25911552618517 -51.34931417437362)          NaN\n",
      "25     POINT (-1.809241673097461 -50.28211192606403)          NaN\n",
      "26       POINT (17.83520800980463 24.41980860290401)        Libya\n",
      "27     POINT (-68.93189501929714 -22.39329592846867)        Chile\n",
      "28      POINT (-149.1009234837143 16.33144541856404)          NaN\n",
      "29     POINT (-62.58696075379262 -85.40073769990639)   Antarctica\n",
      "...                                              ...          ...\n",
      "99970     POINT (9.914411794851702 32.1440026166366)      Tunisia\n",
      "99971   POINT (140.1537792561399 -35.90268186871901)    Australia\n",
      "99972   POINT (-152.8029348166257 38.19851220533113)          NaN\n",
      "99973   POINT (85.49939521264622 -17.34281953673474)          NaN\n",
      "99974   POINT (155.7385955869609 -0.156117396145504)          NaN\n",
      "99975   POINT (-117.981302762306 -33.10862597457505)          NaN\n",
      "99976    POINT (79.99642870949828 48.27744176457969)   Kazakhstan\n",
      "99977    POINT (19.31943551389341 38.28969348435879)          NaN\n",
      "99978  POINT (-124.0595048352494 -52.91305757170544)          NaN\n",
      "99979    POINT (158.7123275555678 -71.3918440734362)   Antarctica\n",
      "99980     POINT (28.62717639653923 14.1750042484407)        Sudan\n",
      "99981   POINT (105.9741350195722 -83.10238554598125)   Antarctica\n",
      "99982    POINT (-83.3863428564878 -78.1742851717112)   Antarctica\n",
      "99983   POINT (-115.178870013036 -32.19013023965805)          NaN\n",
      "99984  POINT (-106.5345173671516 -41.95295228497204)          NaN\n",
      "99985    POINT (40.18168902291464 86.40481304783034)          NaN\n",
      "99986    POINT (177.0655645696562 32.40969596648951)          NaN\n",
      "99987  POINT (-101.8869344172412 -34.72020002467384)          NaN\n",
      "99988    POINT (125.9049241325311 35.78938303913712)          NaN\n",
      "99989  POINT (-14.48224298758535 -51.19093027356379)          NaN\n",
      "99990   POINT (-134.9183436270771 31.87566648846726)          NaN\n",
      "99991   POINT (-90.70015783782632 21.69988209425894)          NaN\n",
      "99992    POINT (74.67318487204969 21.30089404293224)        India\n",
      "99993   POINT (-43.35184449799084 20.53202440892862)          NaN\n",
      "99994  POINT (-155.8924556359592 -68.42848010176643)          NaN\n",
      "99995   POINT (72.23815009249853 -75.63079570091988)   Antarctica\n",
      "99996    POINT (23.30081421595494 33.58610249147263)          NaN\n",
      "99997   POINT (-38.80782700875375 48.51467186430668)          NaN\n",
      "99998   POINT (-176.3403370540601 72.31900734709052)          NaN\n",
      "99999   POINT (103.9988350419275 -16.44051503005365)          NaN\n",
      "\n",
      "[100000 rows x 2 columns]\n"
     ]
    }
   ],
   "source": [
    "op  = pd.DataFrame(data = df_out)\n",
    "print(op)"
   ]
  }
 ],
 "metadata": {
  "kernelspec": {
   "display_name": "Python 3",
   "language": "python",
   "name": "python3"
  },
  "language_info": {
   "codemirror_mode": {
    "name": "ipython",
    "version": 3
   },
   "file_extension": ".py",
   "mimetype": "text/x-python",
   "name": "python",
   "nbconvert_exporter": "python",
   "pygments_lexer": "ipython3",
   "version": "3.7.3"
  }
 },
 "nbformat": 4,
 "nbformat_minor": 2
}
